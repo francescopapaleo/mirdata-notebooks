{
  "nbformat": 4,
  "nbformat_minor": 0,
  "metadata": {
    "colab": {
      "name": "GTZAN_mirdata_example.ipynb",
      "provenance": []
    },
    "kernelspec": {
      "name": "python3",
      "display_name": "Python 3"
    },
    "widgets": {
      "application/vnd.jupyter.widget-state+json": {
        "532ffaea33ec4c5e803947cd95204c48": {
          "model_module": "@jupyter-widgets/controls",
          "model_name": "HBoxModel",
          "state": {
            "_view_name": "HBoxView",
            "_dom_classes": [],
            "_model_name": "HBoxModel",
            "_view_module": "@jupyter-widgets/controls",
            "_model_module_version": "1.5.0",
            "_view_count": null,
            "_view_module_version": "1.5.0",
            "box_style": "",
            "layout": "IPY_MODEL_bc668a05f8154d818261a6ca83dde405",
            "_model_module": "@jupyter-widgets/controls",
            "children": [
              "IPY_MODEL_7ebdd246b19042c289d13ffab86ad695",
              "IPY_MODEL_fe15bb9e042a4f279de253dedacd9d16"
            ]
          }
        },
        "bc668a05f8154d818261a6ca83dde405": {
          "model_module": "@jupyter-widgets/base",
          "model_name": "LayoutModel",
          "state": {
            "_view_name": "LayoutView",
            "grid_template_rows": null,
            "right": null,
            "justify_content": null,
            "_view_module": "@jupyter-widgets/base",
            "overflow": null,
            "_model_module_version": "1.2.0",
            "_view_count": null,
            "flex_flow": null,
            "width": null,
            "min_width": null,
            "border": null,
            "align_items": null,
            "bottom": null,
            "_model_module": "@jupyter-widgets/base",
            "top": null,
            "grid_column": null,
            "overflow_y": null,
            "overflow_x": null,
            "grid_auto_flow": null,
            "grid_area": null,
            "grid_template_columns": null,
            "flex": null,
            "_model_name": "LayoutModel",
            "justify_items": null,
            "grid_row": null,
            "max_height": null,
            "align_content": null,
            "visibility": null,
            "align_self": null,
            "height": null,
            "min_height": null,
            "padding": null,
            "grid_auto_rows": null,
            "grid_gap": null,
            "max_width": null,
            "order": null,
            "_view_module_version": "1.2.0",
            "grid_template_areas": null,
            "object_position": null,
            "object_fit": null,
            "grid_auto_columns": null,
            "margin": null,
            "display": null,
            "left": null
          }
        },
        "7ebdd246b19042c289d13ffab86ad695": {
          "model_module": "@jupyter-widgets/controls",
          "model_name": "FloatProgressModel",
          "state": {
            "_view_name": "ProgressView",
            "style": "IPY_MODEL_252c92ab73e34c6dbffd39340c4f236b",
            "_dom_classes": [],
            "description": "100%",
            "_model_name": "FloatProgressModel",
            "bar_style": "success",
            "max": 200,
            "_view_module": "@jupyter-widgets/controls",
            "_model_module_version": "1.5.0",
            "value": 200,
            "_view_count": null,
            "_view_module_version": "1.5.0",
            "orientation": "horizontal",
            "min": 0,
            "description_tooltip": null,
            "_model_module": "@jupyter-widgets/controls",
            "layout": "IPY_MODEL_4a26bded68d94a3396261aac0194e68b"
          }
        },
        "fe15bb9e042a4f279de253dedacd9d16": {
          "model_module": "@jupyter-widgets/controls",
          "model_name": "HTMLModel",
          "state": {
            "_view_name": "HTMLView",
            "style": "IPY_MODEL_a5dc432e088944b6ae8853a77110142e",
            "_dom_classes": [],
            "description": "",
            "_model_name": "HTMLModel",
            "placeholder": "​",
            "_view_module": "@jupyter-widgets/controls",
            "_model_module_version": "1.5.0",
            "value": " 200/200 [00:05&lt;00:00, 37.63it/s]",
            "_view_count": null,
            "_view_module_version": "1.5.0",
            "description_tooltip": null,
            "_model_module": "@jupyter-widgets/controls",
            "layout": "IPY_MODEL_31c491e0418e41c39817cbab54833d50"
          }
        },
        "252c92ab73e34c6dbffd39340c4f236b": {
          "model_module": "@jupyter-widgets/controls",
          "model_name": "ProgressStyleModel",
          "state": {
            "_view_name": "StyleView",
            "_model_name": "ProgressStyleModel",
            "description_width": "initial",
            "_view_module": "@jupyter-widgets/base",
            "_model_module_version": "1.5.0",
            "_view_count": null,
            "_view_module_version": "1.2.0",
            "bar_color": null,
            "_model_module": "@jupyter-widgets/controls"
          }
        },
        "4a26bded68d94a3396261aac0194e68b": {
          "model_module": "@jupyter-widgets/base",
          "model_name": "LayoutModel",
          "state": {
            "_view_name": "LayoutView",
            "grid_template_rows": null,
            "right": null,
            "justify_content": null,
            "_view_module": "@jupyter-widgets/base",
            "overflow": null,
            "_model_module_version": "1.2.0",
            "_view_count": null,
            "flex_flow": null,
            "width": null,
            "min_width": null,
            "border": null,
            "align_items": null,
            "bottom": null,
            "_model_module": "@jupyter-widgets/base",
            "top": null,
            "grid_column": null,
            "overflow_y": null,
            "overflow_x": null,
            "grid_auto_flow": null,
            "grid_area": null,
            "grid_template_columns": null,
            "flex": null,
            "_model_name": "LayoutModel",
            "justify_items": null,
            "grid_row": null,
            "max_height": null,
            "align_content": null,
            "visibility": null,
            "align_self": null,
            "height": null,
            "min_height": null,
            "padding": null,
            "grid_auto_rows": null,
            "grid_gap": null,
            "max_width": null,
            "order": null,
            "_view_module_version": "1.2.0",
            "grid_template_areas": null,
            "object_position": null,
            "object_fit": null,
            "grid_auto_columns": null,
            "margin": null,
            "display": null,
            "left": null
          }
        },
        "a5dc432e088944b6ae8853a77110142e": {
          "model_module": "@jupyter-widgets/controls",
          "model_name": "DescriptionStyleModel",
          "state": {
            "_view_name": "StyleView",
            "_model_name": "DescriptionStyleModel",
            "description_width": "",
            "_view_module": "@jupyter-widgets/base",
            "_model_module_version": "1.5.0",
            "_view_count": null,
            "_view_module_version": "1.2.0",
            "_model_module": "@jupyter-widgets/controls"
          }
        },
        "31c491e0418e41c39817cbab54833d50": {
          "model_module": "@jupyter-widgets/base",
          "model_name": "LayoutModel",
          "state": {
            "_view_name": "LayoutView",
            "grid_template_rows": null,
            "right": null,
            "justify_content": null,
            "_view_module": "@jupyter-widgets/base",
            "overflow": null,
            "_model_module_version": "1.2.0",
            "_view_count": null,
            "flex_flow": null,
            "width": null,
            "min_width": null,
            "border": null,
            "align_items": null,
            "bottom": null,
            "_model_module": "@jupyter-widgets/base",
            "top": null,
            "grid_column": null,
            "overflow_y": null,
            "overflow_x": null,
            "grid_auto_flow": null,
            "grid_area": null,
            "grid_template_columns": null,
            "flex": null,
            "_model_name": "LayoutModel",
            "justify_items": null,
            "grid_row": null,
            "max_height": null,
            "align_content": null,
            "visibility": null,
            "align_self": null,
            "height": null,
            "min_height": null,
            "padding": null,
            "grid_auto_rows": null,
            "grid_gap": null,
            "max_width": null,
            "order": null,
            "_view_module_version": "1.2.0",
            "grid_template_areas": null,
            "object_position": null,
            "object_fit": null,
            "grid_auto_columns": null,
            "margin": null,
            "display": null,
            "left": null
          }
        },
        "c3e2745c9a33490a9b450b2eb1298594": {
          "model_module": "@jupyter-widgets/controls",
          "model_name": "HBoxModel",
          "state": {
            "_view_name": "HBoxView",
            "_dom_classes": [],
            "_model_name": "HBoxModel",
            "_view_module": "@jupyter-widgets/controls",
            "_model_module_version": "1.5.0",
            "_view_count": null,
            "_view_module_version": "1.5.0",
            "box_style": "",
            "layout": "IPY_MODEL_63f3a30bd06949209840164b5ce2466d",
            "_model_module": "@jupyter-widgets/controls",
            "children": [
              "IPY_MODEL_88e1b17eddf245fe841933cadb8b1b08",
              "IPY_MODEL_d0cf63b0309a469a8928c18a82c8117d"
            ]
          }
        },
        "63f3a30bd06949209840164b5ce2466d": {
          "model_module": "@jupyter-widgets/base",
          "model_name": "LayoutModel",
          "state": {
            "_view_name": "LayoutView",
            "grid_template_rows": null,
            "right": null,
            "justify_content": null,
            "_view_module": "@jupyter-widgets/base",
            "overflow": null,
            "_model_module_version": "1.2.0",
            "_view_count": null,
            "flex_flow": null,
            "width": null,
            "min_width": null,
            "border": null,
            "align_items": null,
            "bottom": null,
            "_model_module": "@jupyter-widgets/base",
            "top": null,
            "grid_column": null,
            "overflow_y": null,
            "overflow_x": null,
            "grid_auto_flow": null,
            "grid_area": null,
            "grid_template_columns": null,
            "flex": null,
            "_model_name": "LayoutModel",
            "justify_items": null,
            "grid_row": null,
            "max_height": null,
            "align_content": null,
            "visibility": null,
            "align_self": null,
            "height": null,
            "min_height": null,
            "padding": null,
            "grid_auto_rows": null,
            "grid_gap": null,
            "max_width": null,
            "order": null,
            "_view_module_version": "1.2.0",
            "grid_template_areas": null,
            "object_position": null,
            "object_fit": null,
            "grid_auto_columns": null,
            "margin": null,
            "display": null,
            "left": null
          }
        },
        "88e1b17eddf245fe841933cadb8b1b08": {
          "model_module": "@jupyter-widgets/controls",
          "model_name": "FloatProgressModel",
          "state": {
            "_view_name": "ProgressView",
            "style": "IPY_MODEL_033f252ff2674d79be39d3d3b9058ee2",
            "_dom_classes": [],
            "description": "100%",
            "_model_name": "FloatProgressModel",
            "bar_style": "success",
            "max": 1000,
            "_view_module": "@jupyter-widgets/controls",
            "_model_module_version": "1.5.0",
            "value": 1000,
            "_view_count": null,
            "_view_module_version": "1.5.0",
            "orientation": "horizontal",
            "min": 0,
            "description_tooltip": null,
            "_model_module": "@jupyter-widgets/controls",
            "layout": "IPY_MODEL_3ca6558970a840a8a8d76063f255e322"
          }
        },
        "d0cf63b0309a469a8928c18a82c8117d": {
          "model_module": "@jupyter-widgets/controls",
          "model_name": "HTMLModel",
          "state": {
            "_view_name": "HTMLView",
            "style": "IPY_MODEL_25dafeb8e22b47528ffb6b912781af11",
            "_dom_classes": [],
            "description": "",
            "_model_name": "HTMLModel",
            "placeholder": "​",
            "_view_module": "@jupyter-widgets/controls",
            "_model_module_version": "1.5.0",
            "value": " 1000/1000 [43:07&lt;00:00,  2.59s/it]",
            "_view_count": null,
            "_view_module_version": "1.5.0",
            "description_tooltip": null,
            "_model_module": "@jupyter-widgets/controls",
            "layout": "IPY_MODEL_554c61e47515442c9ac41686e01dee8f"
          }
        },
        "033f252ff2674d79be39d3d3b9058ee2": {
          "model_module": "@jupyter-widgets/controls",
          "model_name": "ProgressStyleModel",
          "state": {
            "_view_name": "StyleView",
            "_model_name": "ProgressStyleModel",
            "description_width": "initial",
            "_view_module": "@jupyter-widgets/base",
            "_model_module_version": "1.5.0",
            "_view_count": null,
            "_view_module_version": "1.2.0",
            "bar_color": null,
            "_model_module": "@jupyter-widgets/controls"
          }
        },
        "3ca6558970a840a8a8d76063f255e322": {
          "model_module": "@jupyter-widgets/base",
          "model_name": "LayoutModel",
          "state": {
            "_view_name": "LayoutView",
            "grid_template_rows": null,
            "right": null,
            "justify_content": null,
            "_view_module": "@jupyter-widgets/base",
            "overflow": null,
            "_model_module_version": "1.2.0",
            "_view_count": null,
            "flex_flow": null,
            "width": null,
            "min_width": null,
            "border": null,
            "align_items": null,
            "bottom": null,
            "_model_module": "@jupyter-widgets/base",
            "top": null,
            "grid_column": null,
            "overflow_y": null,
            "overflow_x": null,
            "grid_auto_flow": null,
            "grid_area": null,
            "grid_template_columns": null,
            "flex": null,
            "_model_name": "LayoutModel",
            "justify_items": null,
            "grid_row": null,
            "max_height": null,
            "align_content": null,
            "visibility": null,
            "align_self": null,
            "height": null,
            "min_height": null,
            "padding": null,
            "grid_auto_rows": null,
            "grid_gap": null,
            "max_width": null,
            "order": null,
            "_view_module_version": "1.2.0",
            "grid_template_areas": null,
            "object_position": null,
            "object_fit": null,
            "grid_auto_columns": null,
            "margin": null,
            "display": null,
            "left": null
          }
        },
        "25dafeb8e22b47528ffb6b912781af11": {
          "model_module": "@jupyter-widgets/controls",
          "model_name": "DescriptionStyleModel",
          "state": {
            "_view_name": "StyleView",
            "_model_name": "DescriptionStyleModel",
            "description_width": "",
            "_view_module": "@jupyter-widgets/base",
            "_model_module_version": "1.5.0",
            "_view_count": null,
            "_view_module_version": "1.2.0",
            "_model_module": "@jupyter-widgets/controls"
          }
        },
        "554c61e47515442c9ac41686e01dee8f": {
          "model_module": "@jupyter-widgets/base",
          "model_name": "LayoutModel",
          "state": {
            "_view_name": "LayoutView",
            "grid_template_rows": null,
            "right": null,
            "justify_content": null,
            "_view_module": "@jupyter-widgets/base",
            "overflow": null,
            "_model_module_version": "1.2.0",
            "_view_count": null,
            "flex_flow": null,
            "width": null,
            "min_width": null,
            "border": null,
            "align_items": null,
            "bottom": null,
            "_model_module": "@jupyter-widgets/base",
            "top": null,
            "grid_column": null,
            "overflow_y": null,
            "overflow_x": null,
            "grid_auto_flow": null,
            "grid_area": null,
            "grid_template_columns": null,
            "flex": null,
            "_model_name": "LayoutModel",
            "justify_items": null,
            "grid_row": null,
            "max_height": null,
            "align_content": null,
            "visibility": null,
            "align_self": null,
            "height": null,
            "min_height": null,
            "padding": null,
            "grid_auto_rows": null,
            "grid_gap": null,
            "max_width": null,
            "order": null,
            "_view_module_version": "1.2.0",
            "grid_template_areas": null,
            "object_position": null,
            "object_fit": null,
            "grid_auto_columns": null,
            "margin": null,
            "display": null,
            "left": null
          }
        }
      }
    }
  },
  "cells": [
    {
      "cell_type": "markdown",
      "metadata": {
        "id": "JqYG8Hk0Gj2u"
      },
      "source": [
        "# GTZAN-Genre Dataset Loader\n",
        "\n",
        "Notebook written by: Aditya Bhattacharjee\n",
        "\n",
        "* Email contact: aditya.bhattacharjee01@estudiant.upf.edu \n",
        "* GitHub username: [@chymaera96](https://github.com/chymaera96)\n",
        "\n",
        "The following python notebook illustrates the use of the `mirdata` python library to load the GTZAN-Genre Classification dataset. There are three main parts of this notebook:\n",
        "\n",
        "\n",
        "*   Downloading the Dataset\n",
        "*   Example #1: Exploring the genre distribution\n",
        "*   Example #2: Classification using pre-trained model\n",
        "\n",
        "\n",
        "\n",
        "### About mirdata \n",
        "The `mirdata` library provides with the tools for reproducible access and usage of the common Music Information Retrieval (MIR) datasets. In addition to dataloaders for [these](https://mirdata.readthedocs.io/en/stable/source/quick_reference.html) datasets, `mirdata` can be used to validate and access track-wise metadata alleviating the problem of format inconsistencies. For further details, refer to the [documentation](https://mirdata.readthedocs.io/en/latest/). \n",
        "\n",
        "### About GTZAN-Genre Dataset\n",
        "The dataset contains 1000 music excerpts of 30 seconds duration with 100 examples in each of 10 different annotated music genres: Blues, Classical, Country,\n",
        "Disco, Hip Hop, Jazz, Metal, Popular, Reggae, and Rock. This dataset has been widely used in MIR research for the automatic genre recognition task. For further details on the dataset refer to this [article](https://vbn.aau.dk/ws/portalfiles/portal/74499095/GTZANDB.pdf)."
      ]
    },
    {
      "cell_type": "code",
      "metadata": {
        "colab": {
          "base_uri": "https://localhost:8080/"
        },
        "id": "8yAuN3B0GdcA",
        "outputId": "ef60a575-fddf-4b84-d84b-e3e5f70241f5"
      },
      "source": [
        "# Installations for the notebook\n",
        "!pip install mirdata \n",
        "!pip install tqdm"
      ],
      "execution_count": null,
      "outputs": [
        {
          "output_type": "stream",
          "text": [
            "Collecting mirdata\n",
            "\u001b[?25l  Downloading https://files.pythonhosted.org/packages/e0/5e/73e48234d3e1ef60a1d3e41ff4b29c0caa599776645643f5cd3003efd41d/mirdata-0.3.2-py3-none-any.whl (6.1MB)\n",
            "\u001b[K     |████████████████████████████████| 6.1MB 5.1MB/s \n",
            "\u001b[?25hCollecting jams\n",
            "\u001b[?25l  Downloading https://files.pythonhosted.org/packages/cc/1a/761a500a9512937931e325b8950195f17e5ba991c92d38d2079a2d8c5590/jams-0.3.4.tar.gz (51kB)\n",
            "\u001b[K     |████████████████████████████████| 61kB 7.4MB/s \n",
            "\u001b[?25hCollecting pretty-midi>=0.2.8\n",
            "\u001b[?25l  Downloading https://files.pythonhosted.org/packages/bc/8e/63c6e39a7a64623a9cd6aec530070c70827f6f8f40deec938f323d7b1e15/pretty_midi-0.2.9.tar.gz (5.6MB)\n",
            "\u001b[K     |████████████████████████████████| 5.6MB 33.2MB/s \n",
            "\u001b[?25hRequirement already satisfied: tqdm in /usr/local/lib/python3.7/dist-packages (from mirdata) (4.41.1)\n",
            "Requirement already satisfied: numpy>=1.16 in /usr/local/lib/python3.7/dist-packages (from mirdata) (1.19.5)\n",
            "Requirement already satisfied: librosa>=0.8.0 in /usr/local/lib/python3.7/dist-packages (from mirdata) (0.8.0)\n",
            "Requirement already satisfied: requests in /usr/local/lib/python3.7/dist-packages (from mirdata) (2.23.0)\n",
            "Requirement already satisfied: pandas in /usr/local/lib/python3.7/dist-packages (from jams->mirdata) (1.1.5)\n",
            "Requirement already satisfied: sortedcontainers>=2.0.0 in /usr/local/lib/python3.7/dist-packages (from jams->mirdata) (2.3.0)\n",
            "Collecting jsonschema>=3.0.0\n",
            "\u001b[?25l  Downloading https://files.pythonhosted.org/packages/c5/8f/51e89ce52a085483359217bc72cdbf6e75ee595d5b1d4b5ade40c7e018b8/jsonschema-3.2.0-py2.py3-none-any.whl (56kB)\n",
            "\u001b[K     |████████████████████████████████| 61kB 8.2MB/s \n",
            "\u001b[?25hRequirement already satisfied: six in /usr/local/lib/python3.7/dist-packages (from jams->mirdata) (1.15.0)\n",
            "Requirement already satisfied: decorator in /usr/local/lib/python3.7/dist-packages (from jams->mirdata) (4.4.2)\n",
            "Collecting mir_eval>=0.5\n",
            "\u001b[?25l  Downloading https://files.pythonhosted.org/packages/0a/fe/be4f7a59ed71938e21e89f23afe93eea0d39eb3e77f83754a12028cf1a68/mir_eval-0.6.tar.gz (87kB)\n",
            "\u001b[K     |████████████████████████████████| 92kB 9.1MB/s \n",
            "\u001b[?25hCollecting mido>=1.1.16\n",
            "\u001b[?25l  Downloading https://files.pythonhosted.org/packages/20/0a/81beb587b1ae832ea6a1901dc7c6faa380e8dd154e0a862f0a9f3d2afab9/mido-1.2.9-py2.py3-none-any.whl (52kB)\n",
            "\u001b[K     |████████████████████████████████| 61kB 8.0MB/s \n",
            "\u001b[?25hRequirement already satisfied: joblib>=0.14 in /usr/local/lib/python3.7/dist-packages (from librosa>=0.8.0->mirdata) (1.0.1)\n",
            "Requirement already satisfied: soundfile>=0.9.0 in /usr/local/lib/python3.7/dist-packages (from librosa>=0.8.0->mirdata) (0.10.3.post1)\n",
            "Requirement already satisfied: audioread>=2.0.0 in /usr/local/lib/python3.7/dist-packages (from librosa>=0.8.0->mirdata) (2.1.9)\n",
            "Requirement already satisfied: numba>=0.43.0 in /usr/local/lib/python3.7/dist-packages (from librosa>=0.8.0->mirdata) (0.51.2)\n",
            "Requirement already satisfied: scikit-learn!=0.19.0,>=0.14.0 in /usr/local/lib/python3.7/dist-packages (from librosa>=0.8.0->mirdata) (0.22.2.post1)\n",
            "Requirement already satisfied: pooch>=1.0 in /usr/local/lib/python3.7/dist-packages (from librosa>=0.8.0->mirdata) (1.3.0)\n",
            "Requirement already satisfied: resampy>=0.2.2 in /usr/local/lib/python3.7/dist-packages (from librosa>=0.8.0->mirdata) (0.2.2)\n",
            "Requirement already satisfied: scipy>=1.0.0 in /usr/local/lib/python3.7/dist-packages (from librosa>=0.8.0->mirdata) (1.4.1)\n",
            "Requirement already satisfied: certifi>=2017.4.17 in /usr/local/lib/python3.7/dist-packages (from requests->mirdata) (2020.12.5)\n",
            "Requirement already satisfied: idna<3,>=2.5 in /usr/local/lib/python3.7/dist-packages (from requests->mirdata) (2.10)\n",
            "Requirement already satisfied: urllib3!=1.25.0,!=1.25.1,<1.26,>=1.21.1 in /usr/local/lib/python3.7/dist-packages (from requests->mirdata) (1.24.3)\n",
            "Requirement already satisfied: chardet<4,>=3.0.2 in /usr/local/lib/python3.7/dist-packages (from requests->mirdata) (3.0.4)\n",
            "Requirement already satisfied: pytz>=2017.2 in /usr/local/lib/python3.7/dist-packages (from pandas->jams->mirdata) (2018.9)\n",
            "Requirement already satisfied: python-dateutil>=2.7.3 in /usr/local/lib/python3.7/dist-packages (from pandas->jams->mirdata) (2.8.1)\n",
            "Requirement already satisfied: setuptools in /usr/local/lib/python3.7/dist-packages (from jsonschema>=3.0.0->jams->mirdata) (54.2.0)\n",
            "Requirement already satisfied: attrs>=17.4.0 in /usr/local/lib/python3.7/dist-packages (from jsonschema>=3.0.0->jams->mirdata) (20.3.0)\n",
            "Requirement already satisfied: pyrsistent>=0.14.0 in /usr/local/lib/python3.7/dist-packages (from jsonschema>=3.0.0->jams->mirdata) (0.17.3)\n",
            "Requirement already satisfied: importlib-metadata; python_version < \"3.8\" in /usr/local/lib/python3.7/dist-packages (from jsonschema>=3.0.0->jams->mirdata) (3.8.1)\n",
            "Requirement already satisfied: future in /usr/local/lib/python3.7/dist-packages (from mir_eval>=0.5->jams->mirdata) (0.16.0)\n",
            "Requirement already satisfied: cffi>=1.0 in /usr/local/lib/python3.7/dist-packages (from soundfile>=0.9.0->librosa>=0.8.0->mirdata) (1.14.5)\n",
            "Requirement already satisfied: llvmlite<0.35,>=0.34.0.dev0 in /usr/local/lib/python3.7/dist-packages (from numba>=0.43.0->librosa>=0.8.0->mirdata) (0.34.0)\n",
            "Requirement already satisfied: appdirs in /usr/local/lib/python3.7/dist-packages (from pooch>=1.0->librosa>=0.8.0->mirdata) (1.4.4)\n",
            "Requirement already satisfied: packaging in /usr/local/lib/python3.7/dist-packages (from pooch>=1.0->librosa>=0.8.0->mirdata) (20.9)\n",
            "Requirement already satisfied: zipp>=0.5 in /usr/local/lib/python3.7/dist-packages (from importlib-metadata; python_version < \"3.8\"->jsonschema>=3.0.0->jams->mirdata) (3.4.1)\n",
            "Requirement already satisfied: typing-extensions>=3.6.4; python_version < \"3.8\" in /usr/local/lib/python3.7/dist-packages (from importlib-metadata; python_version < \"3.8\"->jsonschema>=3.0.0->jams->mirdata) (3.7.4.3)\n",
            "Requirement already satisfied: pycparser in /usr/local/lib/python3.7/dist-packages (from cffi>=1.0->soundfile>=0.9.0->librosa>=0.8.0->mirdata) (2.20)\n",
            "Requirement already satisfied: pyparsing>=2.0.2 in /usr/local/lib/python3.7/dist-packages (from packaging->pooch>=1.0->librosa>=0.8.0->mirdata) (2.4.7)\n",
            "Building wheels for collected packages: jams, pretty-midi, mir-eval\n",
            "  Building wheel for jams (setup.py) ... \u001b[?25l\u001b[?25hdone\n",
            "  Created wheel for jams: filename=jams-0.3.4-cp37-none-any.whl size=64926 sha256=ddfbd0392403795df9a516dacc6809c1172d8fb54942095bf2cfa4cbc95a8976\n",
            "  Stored in directory: /root/.cache/pip/wheels/2b/b8/c7/092096a3af0eb864cca4e79a44bc883dee5b9767da2c6f8ab3\n",
            "  Building wheel for pretty-midi (setup.py) ... \u001b[?25l\u001b[?25hdone\n",
            "  Created wheel for pretty-midi: filename=pretty_midi-0.2.9-cp37-none-any.whl size=5591954 sha256=acdb93d3a240ce25409de281bbb9dd5be9a03510d65fbed0361ceed688c47373\n",
            "  Stored in directory: /root/.cache/pip/wheels/4c/a1/c6/b5697841db1112c6e5866d75a6b6bf1bef73b874782556ba66\n",
            "  Building wheel for mir-eval (setup.py) ... \u001b[?25l\u001b[?25hdone\n",
            "  Created wheel for mir-eval: filename=mir_eval-0.6-cp37-none-any.whl size=96515 sha256=0bd5bb7837098da5c4408aeeebf302d162d02614393650d808cb1f90029ddd33\n",
            "  Stored in directory: /root/.cache/pip/wheels/49/ce/30/730fa72addf275e49d90683b01b3613048b4be3bf7ff8eb6ec\n",
            "Successfully built jams pretty-midi mir-eval\n",
            "\u001b[31mERROR: nbclient 0.5.3 has requirement jupyter-client>=6.1.5, but you'll have jupyter-client 5.3.5 which is incompatible.\u001b[0m\n",
            "Installing collected packages: jsonschema, mir-eval, jams, mido, pretty-midi, mirdata\n",
            "  Found existing installation: jsonschema 2.6.0\n",
            "    Uninstalling jsonschema-2.6.0:\n",
            "      Successfully uninstalled jsonschema-2.6.0\n",
            "Successfully installed jams-0.3.4 jsonschema-3.2.0 mido-1.2.9 mir-eval-0.6 mirdata-0.3.2 pretty-midi-0.2.9\n",
            "Requirement already satisfied: tqdm in /usr/local/lib/python3.7/dist-packages (4.41.1)\n"
          ],
          "name": "stdout"
        }
      ]
    },
    {
      "cell_type": "code",
      "metadata": {
        "id": "eezHQzACqnjL",
        "colab": {
          "base_uri": "https://localhost:8080/"
        },
        "outputId": "577487b8-81c6-4ed7-a1e5-69eb34bfa0d2"
      },
      "source": [
        "# Mounting Google drive\n",
        "from google.colab import drive\n",
        "drive.mount('/gdrive')"
      ],
      "execution_count": null,
      "outputs": [
        {
          "output_type": "stream",
          "text": [
            "Mounted at /gdrive\n"
          ],
          "name": "stdout"
        }
      ]
    },
    {
      "cell_type": "code",
      "metadata": {
        "id": "x0kYKtFpbr_b"
      },
      "source": [
        "import os\n",
        "import numpy as np\n",
        "from tqdm import notebook as prog\n",
        "from scipy.io.wavfile import write\n",
        "from mirdata import initialize\n",
        "from mirdata.datasets import gtzan_genre\n",
        "from mirdata.datasets.gtzan_genre import Dataset\n",
        "import matplotlib.pyplot as plt\n",
        "import pandas as pd"
      ],
      "execution_count": null,
      "outputs": []
    },
    {
      "cell_type": "markdown",
      "metadata": {
        "id": "LXe6aqKZ8xbj"
      },
      "source": [
        "#Downloading the dataset\n",
        "For ease of access, we will download the dataset into the mounted Google Drive. The audio recordings are stored in the respective genre folders. In addition to this, the `gtzan_genre\\genre` directory contains the metadata in `.mf` files. The dataset can be downloaded in its entirety or partially. However, for this particular document the `REMOTES` dictionary specifies only one key and so it is only possible to partially download genre-wise."
      ]
    },
    {
      "cell_type": "code",
      "metadata": {
        "colab": {
          "base_uri": "https://localhost:8080/"
        },
        "id": "QFSauK1SqOnm",
        "outputId": "2d1cbfb8-c2d6-4435-c417-fd8d6659606e"
      },
      "source": [
        "gtzan = initialize('gtzan_genre', data_home='/gdrive/MyDrive')\n",
        "gtzan.download() \n",
        "gtzan.validate(verbose=True)"
      ],
      "execution_count": null,
      "outputs": [
        {
          "output_type": "stream",
          "text": [
            "100%|██████████| 1000/1000 [15:40<00:00,  1.06it/s]\n",
            "INFO: Success: the dataset is complete and all files are valid.\n",
            "INFO: --------------------\n"
          ],
          "name": "stderr"
        },
        {
          "output_type": "execute_result",
          "data": {
            "text/plain": [
              "({'tracks': {}}, {'tracks': {}})"
            ]
          },
          "metadata": {
            "tags": []
          },
          "execution_count": 12
        }
      ]
    },
    {
      "cell_type": "markdown",
      "metadata": {
        "id": "dMirb8OErj5z"
      },
      "source": [
        "For partial download, we will use the `load_audio` function and download only the files which are present in the specific genres we want to download."
      ]
    },
    {
      "cell_type": "code",
      "metadata": {
        "id": "cbLeay3Eq6Ei"
      },
      "source": [
        "# Utility function for partial download\n",
        "\n",
        "def partial_download(genres,parent_dir):\n",
        "  parent_dir = parent_dir + \"/gtzan_partial/genres\" \n",
        "  for item in genre:\n",
        "    path = os.path.join(parent_dir, item)\n",
        "    os.makedirs(path)\n",
        "  with prog.tqdm(total=len(genres)*100) as pbar:\n",
        "    for key, track in gtzan.load_tracks().items():\n",
        "      if key.split('.')[0] in genre:\n",
        "        audio, sr = gtzan.load_audio(track.audio_path)\n",
        "        dir = parent_dir + '/' + key.split('.')[0]                           \n",
        "        write(dir + '/' + key + '.wav'  , sr, np.int16(audio))\n",
        "        pbar.update(1)\n",
        "  print(\"------Download complete------\")\n"
      ],
      "execution_count": null,
      "outputs": []
    },
    {
      "cell_type": "code",
      "metadata": {
        "colab": {
          "base_uri": "https://localhost:8080/",
          "height": 83,
          "referenced_widgets": [
            "532ffaea33ec4c5e803947cd95204c48",
            "bc668a05f8154d818261a6ca83dde405",
            "7ebdd246b19042c289d13ffab86ad695",
            "fe15bb9e042a4f279de253dedacd9d16",
            "252c92ab73e34c6dbffd39340c4f236b",
            "4a26bded68d94a3396261aac0194e68b",
            "a5dc432e088944b6ae8853a77110142e",
            "31c491e0418e41c39817cbab54833d50"
          ]
        },
        "id": "Z7FT5_Bh5VOA",
        "outputId": "529df660-328d-4031-a45d-24ba7dba21e9"
      },
      "source": [
        "genres = ['classical','rock']  # For example\n",
        "parent_dir = \"/gdrive/MyDrive\"\n",
        "partial_download(genres,parent_dir)"
      ],
      "execution_count": null,
      "outputs": [
        {
          "output_type": "display_data",
          "data": {
            "application/vnd.jupyter.widget-view+json": {
              "model_id": "532ffaea33ec4c5e803947cd95204c48",
              "version_minor": 0,
              "version_major": 2
            },
            "text/plain": [
              "HBox(children=(FloatProgress(value=0.0, max=200.0), HTML(value='')))"
            ]
          },
          "metadata": {
            "tags": []
          }
        },
        {
          "output_type": "stream",
          "text": [
            "\n",
            "------Download complete------\n"
          ],
          "name": "stdout"
        }
      ]
    },
    {
      "cell_type": "markdown",
      "metadata": {
        "id": "g4UlT8mvMcEZ"
      },
      "source": [
        "# Example #1 : Exploring the genre distribution of GTZAN\n",
        "\n",
        "For the next two examples, we will use the pre-trained TensorFlow models from `essentia-tensorflow`. For this, let us start by installing the various dependencies. "
      ]
    },
    {
      "cell_type": "code",
      "metadata": {
        "colab": {
          "base_uri": "https://localhost:8080/"
        },
        "id": "VO0EOf7rgWv0",
        "outputId": "59d270a1-2e69-4509-edaa-919774062eea"
      },
      "source": [
        "!pip install essentia-tensorflow\n",
        "!git clone https://github.com/MTG/essentia-tutorial.git\n",
        "%cd essentia-tutorial\n",
        "import essentia.standard as es\n"
      ],
      "execution_count": null,
      "outputs": [
        {
          "output_type": "stream",
          "text": [
            "Requirement already satisfied: essentia-tensorflow in /usr/local/lib/python3.7/dist-packages (2.1b6.dev374)\n",
            "Requirement already satisfied: pyyaml in /usr/local/lib/python3.7/dist-packages (from essentia-tensorflow) (3.13)\n",
            "Requirement already satisfied: numpy>=1.8.2 in /usr/local/lib/python3.7/dist-packages (from essentia-tensorflow) (1.19.5)\n",
            "Requirement already satisfied: six in /usr/local/lib/python3.7/dist-packages (from essentia-tensorflow) (1.15.0)\n",
            "Cloning into 'essentia-tutorial'...\n",
            "remote: Enumerating objects: 14, done.\u001b[K\n",
            "remote: Counting objects: 100% (14/14), done.\u001b[K\n",
            "remote: Compressing objects: 100% (11/11), done.\u001b[K\n",
            "remote: Total 46 (delta 5), reused 9 (delta 3), pack-reused 32\u001b[K\n",
            "Unpacking objects: 100% (46/46), done.\n",
            "/content/essentia-tutorial/essentia-tutorial/essentia-tutorial\n"
          ],
          "name": "stdout"
        }
      ]
    },
    {
      "cell_type": "markdown",
      "metadata": {
        "id": "ORDhuZwsjQ54"
      },
      "source": [
        "We will use the pre-trained MusiCNN model to produce continuous auto-tagging of the songs in the dataset. From this, we will compute the most predominant tags in each genre class of GTZAN. The model being has been trained with the Million Song Dataset (MSD) and performs an autotagging on a set of 50 tags. Further details can be found in the metadata shown below."
      ]
    },
    {
      "cell_type": "code",
      "metadata": {
        "colab": {
          "base_uri": "https://localhost:8080/"
        },
        "id": "l-DJAXgAg2HE",
        "outputId": "2492366d-ca2b-4888-e7c0-7ece16eedb4d"
      },
      "source": [
        "!curl -SLO https://essentia.upf.edu/models/autotagging/msd/msd-musicnn-1.pb\n",
        "!curl -SLO https://essentia.upf.edu/models/autotagging/msd/msd-musicnn-1.json"
      ],
      "execution_count": null,
      "outputs": [
        {
          "output_type": "stream",
          "text": [
            "  % Total    % Received % Xferd  Average Speed   Time    Time     Time  Current\n",
            "                                 Dload  Upload   Total   Spent    Left  Speed\n",
            "100 3123k  100 3123k    0     0   447k      0  0:00:06  0:00:06 --:--:--  652k\n",
            "  % Total    % Received % Xferd  Average Speed   Time    Time     Time  Current\n",
            "                                 Dload  Upload   Total   Spent    Left  Speed\n",
            "100  2100  100  2100    0     0   1228      0  0:00:01  0:00:01 --:--:--  1227\n"
          ],
          "name": "stdout"
        }
      ]
    },
    {
      "cell_type": "code",
      "metadata": {
        "colab": {
          "base_uri": "https://localhost:8080/"
        },
        "id": "p9TrEWBgxbFT",
        "outputId": "193def78-b2eb-4277-c01b-076c0b109bff"
      },
      "source": [
        "import json\n",
        "\n",
        "musicnn_metadata = json.load(open('msd-musicnn-1.json', 'r'))\n",
        "\n",
        "for k, v in musicnn_metadata.items():\n",
        "    print('{}: {}'.format(k , v))"
      ],
      "execution_count": null,
      "outputs": [
        {
          "output_type": "stream",
          "text": [
            "name: MSD MusiCNN\n",
            "type: auto-tagging\n",
            "link: https://essentia.upf.edu/models/autotagging/msd/msd-musicnn-1.pb\n",
            "version: 1\n",
            "description: prediction of the top-50 tags in the dataset\n",
            "author: Pablo Alonso\n",
            "email: pablo.alonso@upf.edu\n",
            "release_date: 2020-03-31\n",
            "framework: tensorflow\n",
            "framework_version: 1.15.0\n",
            "classes: ['rock', 'pop', 'alternative', 'indie', 'electronic', 'female vocalists', 'dance', '00s', 'alternative rock', 'jazz', 'beautiful', 'metal', 'chillout', 'male vocalists', 'classic rock', 'soul', 'indie rock', 'Mellow', 'electronica', '80s', 'folk', '90s', 'chill', 'instrumental', 'punk', 'oldies', 'blues', 'hard rock', 'ambient', 'acoustic', 'experimental', 'female vocalist', 'guitar', 'Hip-Hop', '70s', 'party', 'country', 'easy listening', 'sexy', 'catchy', 'funk', 'electro', 'heavy metal', 'Progressive rock', '60s', 'rnb', 'indie pop', 'sad', 'House', 'happy']\n",
            "model_types: ['frozen_model']\n",
            "dataset: {'name': 'The Millon Song Dataset', 'citation': 'http://millionsongdataset.com/', 'size': '200k up to two minutes audio previews', 'metrics': {'ROC-AUC': 0.88, 'PR-AUC': 0.29}}\n",
            "schema: {'inputs': [{'name': 'model/Placeholder', 'type': 'float', 'shape': [187, 96]}], 'outputs': [{'name': 'model/Sigmoid', 'type': 'float', 'shape': [1, 50], 'op': 'Sigmoid'}, {'name': 'model/dense_1/BiasAdd', 'type': 'float', 'shape': [1, 50], 'op': 'fully connected', 'description': 'logits'}, {'name': 'model/dense/BiasAdd', 'type': 'float', 'shape': [1, 200], 'op': 'fully connected', 'description': 'embeddings'}]}\n",
            "citation: @article{alonso2020tensorflow,\n",
            "title={TensorFlow Audio Models in Essentia},\n",
            "author={Alonso-Jim{\\'e}nez, Pablo and Bogdanov, Dmitry and Pons, Jordi and Serra, Xavier},\n",
            "journal={ICASSP 2020},\n",
            "year={2020}\n",
            "}\n"
          ],
          "name": "stdout"
        }
      ]
    },
    {
      "cell_type": "markdown",
      "metadata": {
        "id": "eEJAOMYQz4-5"
      },
      "source": [
        "Here is an example of the predictions made on a randomly sampled track from the GTZAN dataset remotely using `mirdata`"
      ]
    },
    {
      "cell_type": "code",
      "metadata": {
        "colab": {
          "base_uri": "https://localhost:8080/",
          "height": 681
        },
        "id": "afcINqIfxrx1",
        "outputId": "323ec1b8-6d92-4882-97ae-ee650063486c"
      },
      "source": [
        "sr = 16000\n",
        "track = gtzan.choice_track()\n",
        "path = track.audio_path\n",
        "audio = es.MonoLoader(filename=path, sampleRate=sr)()\n",
        "musicnn_preds = es.TensorflowPredictMusiCNN(graphFilename='msd-musicnn-1.pb')(audio)\n",
        "\n",
        "classes = musicnn_metadata['classes']\n",
        "\n",
        "plt.matshow(musicnn_preds.T)\n",
        "plt.title(path.split('/')[-1])\n",
        "plt.yticks(np.arange(len(classes)), classes)\n",
        "plt.gca().xaxis.set_ticks_position('bottom')\n",
        "plt.show()"
      ],
      "execution_count": null,
      "outputs": [
        {
          "output_type": "display_data",
          "data": {
            "image/png": "[encoded data removed]",
            "text/plain": [
              "<Figure size 288x757.895 with 1 Axes>"
            ]
          },
          "metadata": {
            "tags": [],
            "needs_background": "light"
          }
        }
      ]
    },
    {
      "cell_type": "markdown",
      "metadata": {
        "id": "eKjb7wwXFynA"
      },
      "source": [
        "We can see that the model produced 19 predictions ($x$ axis). This is because by default MusiCNN operates on 3-second patches with an overlap of 1.5 seconds. Now, we try to see the distribution of the tags according to the genre classes of the dataset. Note: The following cell takes about 35 minutes to run. "
      ]
    },
    {
      "cell_type": "code",
      "metadata": {
        "id": "wieM8eU1G27c"
      },
      "source": [
        "genre_dict = {}\n",
        "model = es.TensorflowPredictMusiCNN(graphFilename='msd-musicnn-1.pb')\n",
        "loader = es.MonoLoader()\n",
        "\n",
        "with prog.tqdm(total=1000) as pbar:\n",
        "  for key, track in gtzan.load_tracks().items():\n",
        "    loader.configure(filename=track.audio_path, sampleRate=sr)\n",
        "    audio = loader()\n",
        "    musicnn_preds = model(audio)\n",
        "    data = np.sum(musicnn_preds.T, axis = 1)\n",
        "    name = key.split('.')[0]\n",
        "    if name not in genre_dict.keys():\n",
        "      genre_dict[name] = []\n",
        "    else:\n",
        "      genre_dict[name].append(data)\n",
        "    pbar.update(1)\n"
      ],
      "execution_count": null,
      "outputs": []
    },
    {
      "cell_type": "code",
      "metadata": {
        "colab": {
          "base_uri": "https://localhost:8080/",
          "height": 592
        },
        "id": "s7K4NEHiBEIi",
        "outputId": "5721b6f8-8499-400e-a232-2647dbca006e"
      },
      "source": [
        "dist={}\n",
        "for key,value in genre_dict.items():\n",
        "  genre = np.array(genre_dict[key])\n",
        "  dist[key] = np.mean(genre,axis=0)\n",
        "df = pd.DataFrame(dist)\n",
        "z = df.values\n",
        "\n",
        "fig, ax = plt.subplots(figsize=(10,10))\n",
        "plt.imshow(z, origin='lower', aspect='auto')\n",
        "plt.title('Distribution of tags among the genre classes')\n",
        "plt.yticks(np.arange(len(classes)), classes)\n",
        "plt.xticks(np.arange(len(dist.keys())), dist.keys())\n",
        "# plt.colorbar();\n",
        "plt.show()"
      ],
      "execution_count": null,
      "outputs": [
        {
          "output_type": "display_data",
          "data": {
            "image/png": "[encoded data removed]",
            "text/plain": [
              "<Figure size 720x720 with 2 Axes>"
            ]
          },
          "metadata": {
            "tags": [],
            "needs_background": "light"
          }
        }
      ]
    },
    {
      "cell_type": "markdown",
      "metadata": {
        "id": "8lmBLYuBep4s"
      },
      "source": [
        "# Example #1 : Genre Classification using Pre-Trained Models\n",
        "\n",
        "This example uses the `essentia-tensorflow` to use a pre-trained classifier to test its accuracy on the GTZAN genre dataset. The model being used here is a MusiCNN based neural network classifier which has been trained on the Million Song Dataset."
      ]
    },
    {
      "cell_type": "code",
      "metadata": {
        "colab": {
          "base_uri": "https://localhost:8080/"
        },
        "id": "_AfbqNEfgguG",
        "outputId": "8f77789d-ff91-49e3-c407-239b29682cf0"
      },
      "source": [
        "!curl -SLO https://essentia.upf.edu/models/classifiers/genre_tzanetakis/genre_tzanetakis-musicnn-msd-1.json\n",
        "!curl -SLO https://essentia.upf.edu/models/classifiers/genre_tzanetakis/genre_tzanetakis-musicnn-msd-1.pb"
      ],
      "execution_count": null,
      "outputs": [
        {
          "output_type": "stream",
          "text": [
            "  % Total    % Received % Xferd  Average Speed   Time    Time     Time  Current\n",
            "                                 Dload  Upload   Total   Spent    Left  Speed\n",
            "100  2092  100  2092    0     0   1105      0  0:00:01  0:00:01 --:--:--  1104\n",
            "  % Total    % Received % Xferd  Average Speed   Time    Time     Time  Current\n",
            "                                 Dload  Upload   Total   Spent    Left  Speed\n",
            "100 3166k  100 3166k    0     0   478k      0  0:00:06  0:00:06 --:--:--  696k\n"
          ],
          "name": "stdout"
        }
      ]
    },
    {
      "cell_type": "code",
      "metadata": {
        "colab": {
          "base_uri": "https://localhost:8080/"
        },
        "id": "kXyS-qAUhji2",
        "outputId": "645a364c-e7f8-49ad-fd13-c5ccf6b88b27"
      },
      "source": [
        "genre_metadata = json.load(open('genre_tzanetakis-musicnn-msd-1.json', 'r'))\n",
        "\n",
        "for k, v in genre_metadata.items():\n",
        "    print('{}: {}'.format(k , v))"
      ],
      "execution_count": null,
      "outputs": [
        {
          "output_type": "stream",
          "text": [
            "name: genre GTZAN\n",
            "type: multi-class classifier\n",
            "link: https://essentia.upf.edu/models/classifiers/genre_tzanetakis/genre_tzanetakis-musicnn-msd-1.pb\n",
            "version: 1\n",
            "description: classification of music by genre\n",
            "author: Pablo Alonso\n",
            "email: pablo.alonso@upf.edu\n",
            "release_date: 2020-03-31\n",
            "framework: tensorflow\n",
            "framework_version: 1.15.0\n",
            "classes: ['blu', 'cla', 'cou', 'dis', 'hip', 'jaz', 'met', 'pop', 'reg', 'roc']\n",
            "model_types: ['frozen_model']\n",
            "dataset: {'name': 'the GTZAN Genre Collection', 'citation': '@article{tzanetakis2002musical,\\n  title={Musical genre classification of audio signals},\\n  author={Tzanetakis, George and Cook, Perry},\\n  journal={IEEE Transactions on speech and audio processing},\\n  volume={10},\\n  number={5},\\n  pages={293--302},\\n  year={2002},\\n  publisher={IEEE}\\n}', 'size': '1000 track excerpts, 100 per genre', 'metrics': {'5-fold_cross_validation_normalized_accuracy': 0.83}}\n",
            "schema: {'inputs': [{'name': 'model/Placeholder', 'type': 'float', 'shape': [187, 96]}], 'outputs': [{'name': 'model/Sigmoid', 'type': 'float', 'shape': [1, 10], 'op': 'Sigmoid'}, {'name': 'model/dense_2/BiasAdd', 'type': 'float', 'shape': [1, 10], 'op': 'fully connected', 'description': 'logits'}, {'name': 'model/dense_1/BiasAdd', 'type': 'float', 'shape': [1, 100], 'op': 'fully connected', 'description': 'penultimate layer'}, {'name': 'model/dense/BiasAdd', 'type': 'float', 'shape': [1, 200], 'op': 'fully connected', 'description': 'embeddings'}]}\n",
            "citation: @article{alonso2020tensorflow,\n",
            "title={TensorFlow Audio Models in Essentia},\n",
            "author={Alonso-Jim{\\'e}nez, Pablo and Bogdanov, Dmitry and Pons, Jordi and Serra, Xavier},\n",
            "journal={ICASSP 2020},\n",
            "year={2020}\n",
            "}\n"
          ],
          "name": "stdout"
        }
      ]
    },
    {
      "cell_type": "code",
      "metadata": {
        "colab": {
          "base_uri": "https://localhost:8080/",
          "height": 66,
          "referenced_widgets": [
            "c3e2745c9a33490a9b450b2eb1298594",
            "63f3a30bd06949209840164b5ce2466d",
            "88e1b17eddf245fe841933cadb8b1b08",
            "d0cf63b0309a469a8928c18a82c8117d",
            "033f252ff2674d79be39d3d3b9058ee2",
            "3ca6558970a840a8a8d76063f255e322",
            "25dafeb8e22b47528ffb6b912781af11",
            "554c61e47515442c9ac41686e01dee8f"
          ]
        },
        "id": "4JHUxYeRjk3Z",
        "outputId": "ef1a148b-e441-46c1-8d01-84bef276c3c6"
      },
      "source": [
        "\n",
        "model = es.TensorflowPredictMusiCNN(graphFilename='genre_tzanetakis-musicnn-msd-1.pb')\n",
        "loader = es.MonoLoader()\n",
        "\n",
        "# genre_preds = es.TensorflowPredictMusiCNN(graphFilename='genre_tzanetakis-musicnn-msd-1.pb')(audio)\n",
        "\n",
        "classes = genre_metadata['classes']\n",
        "\n",
        "\n",
        "# print(genre_metadata[np.argmax(genre_preds)])\n",
        "# print(track.track_id)\n",
        "\n",
        "test_values = []\n",
        "with prog.tqdm(total=1000) as pbar:\n",
        "  for key, track in gtzan.load_tracks().items():\n",
        "    loader.configure(filename=track.audio_path, sampleRate=sr)\n",
        "    audio = loader()\n",
        "    genre_preds = model(audio)\n",
        "    genre_preds = np.mean(genre_preds, axis=0)\n",
        "    cls = track.track_id.split('.')[0][:3]\n",
        "    if cls == classes[np.argmax(genre_preds)]:\n",
        "      test_values.append(1)\n",
        "    else:\n",
        "      test_values.append(0)\n",
        "    pbar.update(1)\n"
      ],
      "execution_count": null,
      "outputs": [
        {
          "output_type": "display_data",
          "data": {
            "application/vnd.jupyter.widget-view+json": {
              "model_id": "c3e2745c9a33490a9b450b2eb1298594",
              "version_minor": 0,
              "version_major": 2
            },
            "text/plain": [
              "HBox(children=(FloatProgress(value=0.0, max=1000.0), HTML(value='')))"
            ]
          },
          "metadata": {
            "tags": []
          }
        },
        {
          "output_type": "stream",
          "text": [
            "\n"
          ],
          "name": "stdout"
        }
      ]
    },
    {
      "cell_type": "code",
      "metadata": {
        "colab": {
          "base_uri": "https://localhost:8080/"
        },
        "id": "7dzTzNKoqF-D",
        "outputId": "726294c8-6344-4584-be6c-f3efedd0ea16"
      },
      "source": [
        "print('Accuracy of the model: {}%'.format(np.count_nonzero(test_values) / 10.0))"
      ],
      "execution_count": null,
      "outputs": [
        {
          "output_type": "stream",
          "text": [
            "Accuracy of the model: 94.9%\n"
          ],
          "name": "stdout"
        }
      ]
    }
  ]
}